{
  "nbformat": 4,
  "nbformat_minor": 0,
  "metadata": {
    "colab": {
      "provenance": []
    },
    "kernelspec": {
      "name": "python3",
      "display_name": "Python 3"
    },
    "language_info": {
      "name": "python"
    }
  },
  "cells": [
    {
      "cell_type": "markdown",
      "source": [
        "Project Title:- Analysis and Prediction of House Price using Linear Regression Algorithm"
      ],
      "metadata": {
        "id": "w2mKiSTbugnn"
      }
    },
    {
      "cell_type": "markdown",
      "source": [
        "Dataset Link:https://www.kaggle.com/datasets/yasserh/housing-prices-dataset"
      ],
      "metadata": {
        "id": "cd4rsIKKyQvg"
      }
    },
    {
      "cell_type": "markdown",
      "source": [
        "###Dataset Overview:-\n",
        "###Description:\n",
        "A simple yet challenging project, to predict the housing price based on certain factors like house area, bedrooms, furnished, nearness to mainroad, etc. The dataset is small yet, it's complexity arises due to the fact that it has strong multicollinearity. Can you overcome these obstacles & build a decent predictive model?\n",
        "\n",
        "###Acknowledgement:\n",
        "Harrison, D. and Rubinfeld, D.L. (1978) Hedonic prices and the demand for clean air. J. Environ. Economics and Management 5, 81–102.\n",
        "Belsley D.A., Kuh, E. and Welsch, R.E. (1980) Regression Diagnostics. Identifying Influential Data and Sources of Collinearity. New York: Wiley.\n",
        "\n",
        "###Objective:\n",
        "Understand the Dataset & cleanup (if required).\n",
        "Build Regression models to predict the sales w.r.t a single & multiple feature.\n",
        "Also evaluate the models & compare thier respective scores like R2, RMSE, etc.\n",
        "\n"
      ],
      "metadata": {
        "id": "csP1uVA2y1EB"
      }
    },
    {
      "cell_type": "code",
      "execution_count": 5,
      "metadata": {
        "id": "DOUpE82JuF4H"
      },
      "outputs": [],
      "source": []
    },
    {
      "cell_type": "markdown",
      "source": [
        "#Project Approach\n"
      ],
      "metadata": {
        "id": "1KjqksoDzKUm"
      }
    },
    {
      "cell_type": "markdown",
      "source": [
        "##Step 1: Importing Libraries\n"
      ],
      "metadata": {
        "id": "THzRoqV2zpgt"
      }
    },
    {
      "cell_type": "code",
      "source": [
        "import numpy as np\n",
        "import pandas as pd\n",
        "import matplotlib.pyplot as plt\n",
        "import seaborn as sns"
      ],
      "metadata": {
        "id": "PWA0dp-Oz9RA"
      },
      "execution_count": 6,
      "outputs": []
    },
    {
      "cell_type": "markdown",
      "source": [],
      "metadata": {
        "id": "bi1KAciZzvve"
      }
    },
    {
      "cell_type": "markdown",
      "source": [
        "## Step 2: Read Dataset\n"
      ],
      "metadata": {
        "id": "GYzskSbYzwFT"
      }
    },
    {
      "cell_type": "code",
      "source": [
        "dataset=pd.read_csv(\"Housing.csv\")"
      ],
      "metadata": {
        "id": "HjrywCON1MsS"
      },
      "execution_count": 7,
      "outputs": []
    },
    {
      "cell_type": "markdown",
      "source": [
        "##Step 3: Apply EDA"
      ],
      "metadata": {
        "id": "kNh6lr901Ahu"
      }
    },
    {
      "cell_type": "code",
      "source": [
        "dataset.shape"
      ],
      "metadata": {
        "colab": {
          "base_uri": "https://localhost:8080/"
        },
        "id": "7CTbKqR907eh",
        "outputId": "091328e0-8fb5-498f-d190-af11acba9155"
      },
      "execution_count": 9,
      "outputs": [
        {
          "output_type": "execute_result",
          "data": {
            "text/plain": [
              "(545, 13)"
            ]
          },
          "metadata": {},
          "execution_count": 9
        }
      ]
    },
    {
      "cell_type": "code",
      "source": [
        "dataset.info()"
      ],
      "metadata": {
        "colab": {
          "base_uri": "https://localhost:8080/"
        },
        "id": "jELu8TMW1hBi",
        "outputId": "2a215ca9-cf84-4df5-a0f6-62b97d00f14b"
      },
      "execution_count": 10,
      "outputs": [
        {
          "output_type": "stream",
          "name": "stdout",
          "text": [
            "<class 'pandas.core.frame.DataFrame'>\n",
            "RangeIndex: 545 entries, 0 to 544\n",
            "Data columns (total 13 columns):\n",
            " #   Column            Non-Null Count  Dtype \n",
            "---  ------            --------------  ----- \n",
            " 0   price             545 non-null    int64 \n",
            " 1   area              545 non-null    int64 \n",
            " 2   bedrooms          545 non-null    int64 \n",
            " 3   bathrooms         545 non-null    int64 \n",
            " 4   stories           545 non-null    int64 \n",
            " 5   mainroad          545 non-null    object\n",
            " 6   guestroom         545 non-null    object\n",
            " 7   basement          545 non-null    object\n",
            " 8   hotwaterheating   545 non-null    object\n",
            " 9   airconditioning   545 non-null    object\n",
            " 10  parking           545 non-null    int64 \n",
            " 11  prefarea          545 non-null    object\n",
            " 12  furnishingstatus  545 non-null    object\n",
            "dtypes: int64(6), object(7)\n",
            "memory usage: 55.5+ KB\n"
          ]
        }
      ]
    }
  ]
}